{
 "cells": [
  {
   "cell_type": "code",
   "execution_count": 112,
   "metadata": {},
   "outputs": [],
   "source": [
    "import pygame\n",
    "from pygame.locals import *\n",
    "import numpy\n",
    "\n",
    "FPS = 25\n",
    "WindowWidth = 415\n",
    "WindowHeight = 815\n",
    "BoxSize = 20\n",
    "BoardWidth = 20\n",
    "BoardHeight = 40\n",
    "BorderColor = (255,255,255)\n",
    "BGColor = (0, 0, 0)\n",
    "TemplateWidth = 15\n",
    "TemplateHeight = 15\n",
    "\n",
    "XMargin = int((WindowWidth - BoardWidth * BoxSize)/2)\n",
    "TopMargin = WindowHeight - (BoardHeight * BoxSize) -5\n",
    "\n",
    "class Block():\n",
    "    def __init__(self,width,height,x1,y1,val):\n",
    "        self.width = width\n",
    "        self.height = height\n",
    "        self.x1 = x1\n",
    "        self.y1 = y1\n",
    "        self.val = val\n",
    "    \n",
    "    def convertToPixelCoords(self):\n",
    "        return (XMargin + (self.x1 * BoxSize),(TopMargin +(self.y1 * BoxSize)))\n",
    "    \n",
    "    def drawBlock(self, pixelx = None, pixely = None):\n",
    "        if self.val == 0:\n",
    "            return \n",
    "        if pixelx == None and pixely == None:\n",
    "            pixelx,pixely = convertToPixelCoords(self.x1, self.y1)\n",
    "        pygame.draw.rect(DisplaySurf, (0,0,0), (pixelx + 1, pixely + 1, BoxSize - 1, BoxSize - 1))\n",
    "        pygame.draw.rect(DisplaySurf, (34,89,233), (pixelx + 1, pixely + 1, BoxSize - 4, BoxSize - 4))\n",
    "    \n",
    "    \n",
    "        \n",
    "\n",
    "class Grid():\n",
    "    def __init__(self, width, height, block):\n",
    "        self.width = width\n",
    "        self.height = height\n",
    "        self.block = block\n",
    "        self.grid = []\n",
    "    def append(self, thing):\n",
    "        self.grid.append(thing)\n",
    "    def make_grid(self):\n",
    "        grid = []\n",
    "        for i in range(self.width):\n",
    "            self.append([0] * self.height)\n",
    "        return grid\n",
    "    \n",
    "    def draw_grid(self):\n",
    "        #Draws the grid\n",
    "        pygame.draw.rect(DisplaySurf, BorderColor, (XMargin - 3, TopMargin - 7, (BoardWidth * BoxSize) + 8, (BoardHeight * BoxSize) + 8), 5)\n",
    "        \n",
    "        #Fill Background of board\n",
    "        pygame.draw.rect(DisplaySurf, BGColor, (XMargin, TopMargin, BoxSize * BoardWidth, BoxSize * BoardHeight))\n",
    "        \n",
    "        #Draw individual boxes\n",
    "       #or x in range (BoardWidth):\n",
    "            #or y in range(BoardHeight):\n",
    "                #elf.block.drawBlock(x,y)\n",
    "    \n",
    "    def addToBoard(self, block):\n",
    "        for x in range(TemplateWidth):\n",
    "            for y in range(TemplateHeight):\n",
    "                if block.val == 1:\n",
    "                    block.drawBlock(x + block.x1, y + block.y1)\n",
    "                    \n",
    "        "
   ]
  },
  {
   "cell_type": "code",
   "execution_count": 120,
   "metadata": {},
   "outputs": [
    {
     "ename": "NameError",
     "evalue": "name 'sys' is not defined",
     "output_type": "error",
     "traceback": [
      "\u001b[0;31m---------------------------------------------------------------------------\u001b[0m",
      "\u001b[0;31mNameError\u001b[0m                                 Traceback (most recent call last)",
      "\u001b[0;32m<ipython-input-120-af7c165ee308>\u001b[0m in \u001b[0;36m<module>\u001b[0;34m()\u001b[0m\n\u001b[1;32m     28\u001b[0m \u001b[0;34m\u001b[0m\u001b[0m\n\u001b[1;32m     29\u001b[0m \u001b[0;34m\u001b[0m\u001b[0m\n\u001b[0;32m---> 30\u001b[0;31m \u001b[0mterminate\u001b[0m\u001b[0;34m(\u001b[0m\u001b[0;34m)\u001b[0m\u001b[0;34m\u001b[0m\u001b[0m\n\u001b[0m",
      "\u001b[0;32m<ipython-input-120-af7c165ee308>\u001b[0m in \u001b[0;36mterminate\u001b[0;34m()\u001b[0m\n\u001b[1;32m     21\u001b[0m \u001b[0;32mdef\u001b[0m \u001b[0mterminate\u001b[0m\u001b[0;34m(\u001b[0m\u001b[0;34m)\u001b[0m\u001b[0;34m:\u001b[0m\u001b[0;34m\u001b[0m\u001b[0m\n\u001b[1;32m     22\u001b[0m     \u001b[0mpygame\u001b[0m\u001b[0;34m.\u001b[0m\u001b[0mquit\u001b[0m\u001b[0;34m(\u001b[0m\u001b[0;34m)\u001b[0m\u001b[0;34m\u001b[0m\u001b[0m\n\u001b[0;32m---> 23\u001b[0;31m     \u001b[0msys\u001b[0m\u001b[0;34m.\u001b[0m\u001b[0mexit\u001b[0m\u001b[0;34m(\u001b[0m\u001b[0;34m)\u001b[0m\u001b[0;34m\u001b[0m\u001b[0m\n\u001b[0m\u001b[1;32m     24\u001b[0m \u001b[0;34m\u001b[0m\u001b[0m\n\u001b[1;32m     25\u001b[0m \u001b[0;34m\u001b[0m\u001b[0m\n",
      "\u001b[0;31mNameError\u001b[0m: name 'sys' is not defined"
     ]
    }
   ],
   "source": [
    "def main():\n",
    "    global FPSClock, DisplaySurf, BasicFont, BigFont, BorderColor\n",
    "    pygame.init()\n",
    "    DisplaySurf = pygame.display.set_mode((WindowWidth, WindowHeight))\n",
    "    runGame()\n",
    "    \n",
    "def runGame():\n",
    "    block1 = Block(2,2,200,10,1)\n",
    "    block2 = Block(2,2,235,10,1)\n",
    "    block3 = Block(2,2,165,10,1)\n",
    "    block4 = Block(2,2,235,45,1)\n",
    "    grid = Grid(20, 40, block1)\n",
    "    grid.make_grid()\n",
    "    grid.draw_grid()\n",
    "    grid.addToBoard(block4)\n",
    "    grid.addToBoard(block3)\n",
    "    grid.addToBoard(block2)\n",
    "    grid.addToBoard(block1)\n",
    "    pygame.display.update()\n",
    "\n",
    "def terminate():\n",
    "    pygame.quit()\n",
    "    sys.exit()\n",
    "    \n",
    "    \n",
    "if __name__ == '__main__':\n",
    "    main()\n"
   ]
  },
  {
   "cell_type": "code",
   "execution_count": null,
   "metadata": {
    "collapsed": true
   },
   "outputs": [],
   "source": []
  },
  {
   "cell_type": "code",
   "execution_count": null,
   "metadata": {
    "collapsed": true
   },
   "outputs": [],
   "source": []
  }
 ],
 "metadata": {
  "kernelspec": {
   "display_name": "Python 3",
   "language": "python",
   "name": "python3"
  },
  "language_info": {
   "codemirror_mode": {
    "name": "ipython",
    "version": 3
   },
   "file_extension": ".py",
   "mimetype": "text/x-python",
   "name": "python",
   "nbconvert_exporter": "python",
   "pygments_lexer": "ipython3",
   "version": "3.6.3"
  }
 },
 "nbformat": 4,
 "nbformat_minor": 2
}
